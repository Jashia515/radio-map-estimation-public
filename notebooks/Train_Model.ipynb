{
 "cells": [
  {
   "cell_type": "markdown",
   "metadata": {
    "id": "4pv6cjhpNqyz"
   },
   "source": [
    "# Check GPU"
   ]
  },
  {
   "cell_type": "markdown",
   "metadata": {},
   "source": [
    "It is recommended to run this notebook with GPU support. If you have an Nvidea graphics card and drivers installed, the following block of code should show the details of the installed GPU."
   ]
  },
  {
   "cell_type": "code",
   "execution_count": 1,
   "metadata": {
    "colab": {
     "base_uri": "https://localhost:8080/"
    },
    "id": "u_MZ4vNCW5DV",
    "outputId": "1c1eb835-7289-4cb1-f3e3-5ae03e7207d8"
   },
   "outputs": [
    {
     "name": "stdout",
     "output_type": "stream",
     "text": [
      "Thu Feb 01 00:30:26 2024       \n",
      "+-----------------------------------------------------------------------------+\n",
      "| NVIDIA-SMI 446.14       Driver Version: 446.14       CUDA Version: 11.0     |\n",
      "|-------------------------------+----------------------+----------------------+\n",
      "| GPU  Name            TCC/WDDM | Bus-Id        Disp.A | Volatile Uncorr. ECC |\n",
      "| Fan  Temp  Perf  Pwr:Usage/Cap|         Memory-Usage | GPU-Util  Compute M. |\n",
      "|===============================+======================+======================|\n",
      "|   0  GeForce GTX 105... WDDM  | 00000000:01:00.0 Off |                  N/A |\n",
      "| N/A   47C    P8    N/A /  N/A |     75MiB /  4096MiB |      0%      Default |\n",
      "+-------------------------------+----------------------+----------------------+\n",
      "                                                                               \n",
      "+-----------------------------------------------------------------------------+\n",
      "| Processes:                                                                  |\n",
      "|  GPU                  PID   Type   Process name                  GPU Memory |\n",
      "|                                                                  Usage      |\n",
      "|=============================================================================|\n",
      "|  No running processes found                                                 |\n",
      "+-----------------------------------------------------------------------------+\n"
     ]
    }
   ],
   "source": [
    "!nvidia-smi"
   ]
  },
  {
   "cell_type": "markdown",
   "metadata": {
    "id": "80MkxCfJF9_T"
   },
   "source": [
    "# Import Packages"
   ]
  },
  {
   "cell_type": "code",
   "execution_count": 2,
   "metadata": {
    "id": "zWfrHtpz0pbf"
   },
   "outputs": [],
   "source": [
    "# Import packages\n",
    "\n",
    "import torch\n",
    "import numpy as np\n",
    "\n",
    "import os\n",
    "import glob\n",
    "import joblib\n",
    "import random\n",
    "import matplotlib.pyplot as plt"
   ]
  },
  {
   "cell_type": "code",
   "execution_count": 3,
   "metadata": {
    "colab": {
     "base_uri": "https://localhost:8080/"
    },
    "id": "8xFgICgWbu8A",
    "outputId": "c53258f1-644b-4122-f207-47e6167ec636"
   },
   "outputs": [],
   "source": [
    "# Import model architectures and data structures\n",
    "os.chdir(r'E:\\unt\\spring_2024\\radio\\Loop_model')\n",
    "\n",
    "from data_utils import MapDataset\n",
    "\n",
    "from models.autoencoders import BaselineAutoencoder\n",
    "from models.autoencoders import SkipAutoencoder, SkipResidualAutoencoder, SkipMaskAutoencoder, SkipMaskMapAutoencoder\n",
    "from models.autoencoders import SkipMapAutoencoder, SkipMapMaskAutoencoder, SkipInputAutoencoder\n",
    "from models.autoencoders import DualMaskAutoencoder, DualMaskMapAutoencoder, DualMapAutoencoder, DualMaskMapAutoencoder, DualInputAutoencoder"
   ]
  },
  {
   "cell_type": "markdown",
   "metadata": {
    "id": "I4MY7viXdRn9"
   },
   "source": [
    "# Set Hyperparameters"
   ]
  },
  {
   "cell_type": "code",
   "execution_count": 4,
   "metadata": {
    "id": "wgsCKcuZdGdB"
   },
   "outputs": [],
   "source": [
    "# Set random seed, define device\n",
    "\n",
    "seed = 3\n",
    "torch.manual_seed(seed)\n",
    "torch.use_deterministic_algorithms(True)\n",
    "np.random.seed(seed)\n",
    "random.seed(seed)\n",
    "\n",
    "device = torch.device('cuda:0' if torch.cuda.is_available() else 'cpu')"
   ]
  },
  {
   "cell_type": "code",
   "execution_count": 5,
   "metadata": {
    "id": "kQYvSUybdeAh"
   },
   "outputs": [],
   "source": [
    "# Set batch size, learning rate, and number of epochs\n",
    "train_batch_size = 256\n",
    "num_epochs = 1\n",
    "lr = 5e-4\n",
    "\n",
    "# Manually set values for buildings, unsampled locations, and sampled locations in the environment mask. \n",
    "# For the models in the PIMRC paper, these are set to \"None\", meaning they keep the default values of -1, 0, and 1 respectively.\n",
    "building_value = None\n",
    "unsampled_value = None\n",
    "sampled_value = None"
   ]
  },
  {
   "cell_type": "markdown",
   "metadata": {},
   "source": [
    "Specify the model architecture by selecting one of the classes imported above from models.autoencoders. Different hyperparameters can be set for each model, but the default values match the ones used in our experiments."
   ]
  },
  {
   "cell_type": "code",
   "execution_count": 6,
   "metadata": {},
   "outputs": [],
   "source": [
    "# Specify model type. Below we give an example for one of the models from the paper.\n",
    "model = SkipResidualAutoencoder().to(device)\n",
    "model_name = 'Skip_Residual.pth'"
   ]
  },
  {
   "cell_type": "markdown",
   "metadata": {},
   "source": [
    "Before running the following code block, create a folder to save the trained models, then enter the path to that folder in the variable `model_folder`."
   ]
  },
  {
   "cell_type": "code",
   "execution_count": 7,
   "metadata": {},
   "outputs": [],
   "source": [
    "# Set where to save the trained model weights\n",
    "model_folder = os.getcwd()+\"\\\\models\"\n",
    "assert os.path.isdir(model_folder)"
   ]
  },
  {
   "cell_type": "code",
   "execution_count": 8,
   "metadata": {},
   "outputs": [],
   "source": [
    "# Identify paths to training data and data scaler\n",
    "train_data_folder = 'E:\\\\unt\\\\spring_2024\\\\radio\\\\dataset\\\\generated_maps\\\\02_01__04h_23m\\\\test'\n",
    "scaler_path = 'scalers/minmax_scaler_zero_min134.joblib'\n",
    "\n",
    "assert os.path.isdir(train_data_folder)\n",
    "assert os.path.exists(scaler_path)"
   ]
  },
  {
   "cell_type": "code",
   "execution_count": 9,
   "metadata": {
    "colab": {
     "base_uri": "https://localhost:8080/"
    },
    "id": "QEpL79nFeQ-K",
    "outputId": "14aebd2b-921b-4b52-c4d7-1d3e84edc2ef"
   },
   "outputs": [
    {
     "name": "stderr",
     "output_type": "stream",
     "text": [
      "C:\\Users\\jashi\\AppData\\Local\\Programs\\Python\\Python311\\Lib\\site-packages\\sklearn\\base.py:318: UserWarning: Trying to unpickle estimator MinMaxScaler from version 1.0.2 when using version 1.2.2. This might lead to breaking code or invalid results. Use at your own risk. For more info please refer to:\n",
      "https://scikit-learn.org/stable/model_persistence.html#security-maintainability-limitations\n",
      "  warnings.warn(\n"
     ]
    }
   ],
   "source": [
    "#@title Load Training data into DataLoader\n",
    "train_pickle_path = os.path.join(train_data_folder, '*.pickle')\n",
    "train_pickles = glob.glob(train_pickle_path)\n",
    "\n",
    "with open(scaler_path, 'rb') as f:\n",
    "  scaler = joblib.load(f)\n",
    "\n",
    "train_ds = MapDataset(train_pickles, scaler=scaler, building_value=building_value, sampled_value=sampled_value)\n",
    "train_dl = torch.utils.data.DataLoader(train_ds, batch_size=train_batch_size, shuffle=False)\n",
    "\n",
    "optimizer = torch.optim.AdamW(model.parameters(), lr=lr)"
   ]
  },
  {
   "cell_type": "code",
   "execution_count": 13,
   "metadata": {},
   "outputs": [],
   "source": [
    "def plot_loss(total_loss):\n",
    "    \n",
    "    # Generate x-axis values (epochs or iterations)\n",
    "    epochs = range(1, len(total_loss) + 1)\n",
    "    plt.figure(figsize=(8, 6))\n",
    "    \n",
    "    # Plot the losses\n",
    "    plt.plot(epochs, total_loss, '-o')\n",
    "    \n",
    "    # Set plot labels\n",
    "    plt.xlabel('Epochs')\n",
    "    plt.ylabel('MSE (dB)')\n",
    "    \n",
    "    # Set plot title\n",
    "    plt.title('Loss over Epochs')\n",
    "    \n",
    "    # Display the plot\n",
    "    plt.show()"
   ]
  },
  {
   "cell_type": "markdown",
   "metadata": {
    "id": "4uE-E_SKfDPn"
   },
   "source": [
    "# Train Model"
   ]
  },
  {
   "cell_type": "code",
   "execution_count": 11,
   "metadata": {
    "colab": {
     "base_uri": "https://localhost:8080/",
     "height": 1000
    },
    "id": "Y6vmIID1fEZZ",
    "outputId": "f20ef565-454c-4988-83a4-18fcbdb85d8a"
   },
   "outputs": [
    {
     "name": "stdout",
     "output_type": "stream",
     "text": [
      "0.10109467804431915, [1,     1] losssssss: 0.10109467804431915\n",
      "1.3551042079925537, [1,     2] losssssss: 0.7280994430184364\n",
      "0.0712185949087143, [1,     3] losssssss: 0.5091391603151957\n",
      "0.17119939625263214, [1,     4] losssssss: 0.4246542192995548\n",
      "0.1903609037399292, [1,     5] losssssss: 0.3777955561876297\n",
      "0.1928204745054245, [1,     6] losssssss: 0.34696637590726215\n",
      "0.1819685995578766, [1,     7] losssssss: 0.3233952650002071\n",
      "0.16232016682624817, [1,     8] losssssss: 0.3032608777284622\n",
      "0.13139109313488007, [1,     9] losssssss: 0.284164234995842\n",
      "0.07850397378206253, [1,    10] losssssss: 0.26359820887446406\n",
      "0.06345580518245697, [1,    11] losssssss: 0.24540344490246338\n",
      "0.1025160551071167, [1,    12] losssssss: 0.23349616241951784\n",
      "0.07975087314844131, [1,    13] losssssss: 0.2216696017063581\n",
      "0.04726050794124603, [1,    14] losssssss: 0.20921180929456437\n",
      "0.04555388167500496, [1,    15] losssssss: 0.19830128078659376\n",
      "0.05430973321199417, [1,    16] losssssss: 0.18930180906318128\n",
      "0.05834847316145897, [1,    17] losssssss: 0.18159867165719762\n",
      "0.05227760598063469, [1,    18] losssssss: 0.17441416800849968\n",
      "0.040075525641441345, [1,    19] losssssss: 0.16734371314707555\n",
      "0.031422097235918045, [1,    20] losssssss: 0.16054763235151767\n",
      "0.03627856820821762, [1,    21] losssssss: 0.1546300578685034\n",
      "0.04137997701764107, [1,    22] losssssss: 0.14948232692073693\n",
      "0.034740690141916275, [1,    23] losssssss: 0.14449356010426645\n",
      "0.02632792852818966, [1,    24] losssssss: 0.13956999212192991\n",
      "0.027128752321004868, [1,    25] losssssss: 0.13507234252989292\n",
      "0.03331627696752548, [1,    26] losssssss: 0.1311586477005711\n",
      "0.03111257031559944, [1,    27] losssssss: 0.12745323742705364\n",
      "0.024363521486520767, [1,    28] losssssss: 0.12377146185774889\n",
      "0.019458528608083725, [1,    29] losssssss: 0.12017446415948457\n",
      "0.026481375098228455, [1,    30] losssssss: 0.11705136119077603\n",
      "0.03324535861611366, [1,    31] losssssss: 0.1143479417528837\n",
      "0.02727651596069336, [1,    32] losssssss: 0.11162695969687775\n",
      "0.020479528233408928, [1,    33] losssssss: 0.10886491631919687\n",
      "0.017893599346280098, [1,    34] losssssss: 0.1061892893494052\n",
      "0.019568422809243202, [1,    35] losssssss: 0.10371440744825772\n",
      "0.021428264677524567, [1,    36] losssssss: 0.1014286812601818\n",
      "0.020988164469599724, [1,    37] losssssss: 0.09925461323881471\n",
      "0.01913168467581272, [1,    38] losssssss: 0.09714611511873572\n",
      "0.01688425987958908, [1,    39] losssssss: 0.09508811883055247\n",
      "0.0170445516705513, [1,    40] losssssss: 0.09313702965155243\n",
      "0.017622672021389008, [1,    41] losssssss: 0.09129521605081675\n",
      "0.01754886843264103, [1,    42] losssssss: 0.08953935063133638\n",
      "0.015962770208716393, [1,    43] losssssss: 0.08782826736569405\n",
      "0.014542373828589916, [1,    44] losssssss: 0.08616267887621441\n",
      "0.013774694874882698, [1,    45] losssssss: 0.08455405700951815\n",
      "0.013477328233420849, [1,    46] losssssss: 0.0830089107317769\n",
      "0.01364805269986391, [1,    47] losssssss: 0.0815331477949277\n",
      "0.013550314120948315, [1,    48] losssssss: 0.08011683876005311\n",
      "0.013194626197218895, [1,    49] losssssss: 0.07875107931999528\n",
      "0.013096924871206284, [1,    50] losssssss: 0.07743799623101949\n",
      "0.012299318797886372, [1,    51] losssssss: 0.07616076726174238\n",
      "0.012583631090819836, [1,    52] losssssss: 0.07493813002768618\n",
      "0.012658825144171715, [1,    53] losssssss: 0.07376304880346891\n",
      "0.01189175434410572, [1,    54] losssssss: 0.07261728409125849\n",
      "0.01196056604385376, [1,    55] losssssss: 0.07151443467221477\n",
      "0.011193802580237389, [1,    56] losssssss: 0.07043728052771517\n",
      "0.01109880581498146, [1,    57] losssssss: 0.06939625465556194\n",
      "0.010890884324908257, [1,    58] losssssss: 0.06838754137399895\n",
      "0.01098520215600729, [1,    59] losssssss: 0.06741462037030418\n",
      "0.010585005395114422, [1,    60] losssssss: 0.06646746012071768\n",
      "0.010353085584938526, [1,    61] losssssss: 0.06554755234144262\n",
      "0.01012745127081871, [1,    62] losssssss: 0.06465367974352933\n",
      "0.010246302001178265, [1,    63] losssssss: 0.06379007057301582\n",
      "0.010037556290626526, [1,    64] losssssss: 0.06295018753735349\n",
      "0.010065996088087559, [1,    65] losssssss: 0.06213658459198016\n",
      "0.00962057989090681, [1,    66] losssssss: 0.06134088755105481\n",
      "0.009718026965856552, [1,    67] losssssss: 0.06057039709455932\n",
      "0.009529227390885353, [1,    68] losssssss: 0.05981979165774058\n",
      "0.00937841460108757, [1,    69] losssssss: 0.05908875720764416\n",
      "0.009324811398983002, [1,    70] losssssss: 0.058377843696091856\n",
      "0.009145285934209824, [1,    71] losssssss: 0.05768442738958648\n",
      "0.009015755727887154, [1,    72] losssssss: 0.05700847361650732\n",
      "0.009007640182971954, [1,    73] losssssss: 0.05635092795303423\n",
      "0.009023109450936317, [1,    74] losssssss: 0.055711362838141015\n",
      "0.008852815255522728, [1,    75] losssssss: 0.0550865822037061\n",
      "0.008650421164929867, [1,    76] losssssss: 0.05447558008477484\n",
      "0.008682412095367908, [1,    77] losssssss: 0.05388086361737995\n",
      "0.008598655462265015, [1,    78] losssssss: 0.053300322487186164\n",
      "0.008891084231436253, [1,    79] losssssss: 0.05273818023078426\n",
      "0.008454842492938042, [1,    80] losssssss: 0.05218463850906119\n",
      "0.008415409363806248, [1,    81] losssssss: 0.051644277655416064\n",
      "0.008050867356359959, [1,    82] losssssss: 0.051112650700549524\n",
      "0.007959687151014805, [1,    83] losssssss: 0.050592735477061154\n",
      "0.009601191617548466, [1,    84] losssssss: 0.05010474090730505\n",
      "0.009164590388536453, [1,    85] losssssss: 0.04962309207767248\n",
      "0.008264118805527687, [1,    86] losssssss: 0.04914217378381033\n",
      "0.008325599133968353, [1,    87] losssssss: 0.04867301775335238\n",
      "0.008632810786366463, [1,    88] losssssss: 0.04821801540145481\n",
      "0.00822481419891119, [1,    89] losssssss: 0.04776865359019028\n",
      "0.008171191439032555, [1,    90] losssssss: 0.04732868178851075\n",
      "0.007748227566480637, [1,    91] losssssss: 0.04689373174211481\n",
      "0.007464089896529913, [1,    92] losssssss: 0.046465148678575846\n",
      "0.008077790029346943, [1,    93] losssssss: 0.04605238138127231\n",
      "0.007835732772946358, [1,    94] losssssss: 0.045645821289694376\n",
      "0.007732942700386047, [1,    95] losssssss: 0.04524673835717534\n",
      "0.0074794599786400795, [1,    96] losssssss: 0.04485332920739893\n",
      "0.007421387825161219, [1,    97] losssssss: 0.04446743290448926\n",
      "0.007403830531984568, [1,    98] losssssss: 0.04408923288028003\n",
      "0.019731946289539337, [2,     1] losssssss: 0.019731946289539337\n",
      "0.33205029368400574, [2,     2] losssssss: 0.17589111998677254\n",
      "0.06466013193130493, [2,     3] losssssss: 0.13881412396828333\n",
      "0.09073380380868912, [2,     4] losssssss: 0.12679404392838478\n",
      "0.06581785529851913, [2,     5] losssssss: 0.11459880620241165\n",
      "0.02299921028316021, [2,     6] losssssss: 0.09933220688253641\n",
      "0.08491260558366776, [2,     7] losssssss: 0.09727226383984089\n",
      "0.021394677460193634, [2,     8] losssssss: 0.08778756554238498\n",
      "0.028223127126693726, [2,     9] losssssss: 0.08116929460730818\n",
      "0.049255769699811935, [2,    10] losssssss: 0.07797794211655855\n",
      "0.055754583328962326, [2,    11] losssssss: 0.07595763677223162\n",
      "0.033333588391542435, [2,    12] losssssss: 0.07240563274050753\n",
      "0.013947954401373863, [2,    13] losssssss: 0.06790888825288185\n",
      "0.04012611135840416, [2,    14] losssssss: 0.06592440418899059\n",
      "0.045400552451610565, [2,    15] losssssss: 0.06455614740649859\n",
      "0.02331336960196495, [2,    16] losssssss: 0.06197847379371524\n",
      "0.01070413738489151, [2,    17] losssssss: 0.05896233635790208\n",
      "0.01310873031616211, [2,    18] losssssss: 0.05641491380002764\n",
      "0.019831784069538116, [2,    19] losssssss: 0.054489485919475555\n",
      "0.02369106560945511, [2,    20] losssssss: 0.05294956490397453\n",
      "0.0222345981746912, [2,    21] losssssss: 0.05148694744067533\n",
      "0.014917192049324512, [2,    22] losssssss: 0.049824685831977564\n",
      "0.00890458282083273, [2,    23] losssssss: 0.048045550918449524\n",
      "0.012753719463944435, [2,    24] losssssss: 0.04657505794117848\n",
      "0.021987691521644592, [2,    25] losssssss: 0.045591563284397126\n",
      "0.020664509385824203, [2,    26] losssssss: 0.04463283044214432\n",
      "0.011733046732842922, [2,    27] losssssss: 0.04341431993439242\n",
      "0.008925809524953365, [2,    28] losssssss: 0.042182587419769595\n",
      "0.011545046232640743, [2,    29] losssssss: 0.04112612048228239\n",
      "0.016939271241426468, [2,    30] losssssss: 0.040319892174253864\n",
      "0.01777123101055622, [2,    31] losssssss: 0.03959251600768297\n",
      "0.014399269595742226, [2,    32] losssssss: 0.03880522705730982\n",
      "0.009698716923594475, [2,    33] losssssss: 0.037923211598712384\n",
      "0.008301131427288055, [2,    34] losssssss: 0.03705197394661167\n",
      "0.00988275371491909, [2,    35] losssssss: 0.03627571051142046\n",
      "0.011463910341262817, [2,    36] losssssss: 0.035586493840027184\n",
      "0.012104546651244164, [2,    37] losssssss: 0.034951846618708725\n",
      "0.010152016766369343, [2,    38] losssssss: 0.03429921951733137\n",
      "0.007940649054944515, [2,    39] losssssss: 0.03362335873624453\n",
      "0.007607319857925177, [2,    40] losssssss: 0.03297295776428655\n",
      "0.008319788612425327, [2,    41] losssssss: 0.03237166095570457\n",
      "0.009301634505391121, [2,    42] losssssss: 0.03182237461164948\n",
      "0.009550025686621666, [2,    43] losssssss: 0.031304413008741865\n",
      "0.008906391449272633, [2,    44] losssssss: 0.03079536706420847\n",
      "0.007862338796257973, [2,    45] losssssss: 0.03028574421380957\n",
      "0.007039109244942665, [2,    46] losssssss: 0.029780382584051593\n",
      "0.007245298940688372, [2,    47] losssssss: 0.029300912719299185\n",
      "0.00757516548037529, [2,    48] losssssss: 0.028848292985154938\n",
      "0.007969430647790432, [2,    49] losssssss: 0.02842219375378015\n",
      "0.008144118823111057, [2,    50] losssssss: 0.02801663225516677\n",
      "0.007482520304620266, [2,    51] losssssss: 0.02761400260907762\n",
      "0.007088906597346067, [2,    52] losssssss: 0.02721928922423663\n",
      "0.007027017883956432, [2,    53] losssssss: 0.02683830297253323\n",
      "0.007053732872009277, [2,    54] losssssss: 0.02647192204474575\n",
      "0.007233510725200176, [2,    55] losssssss: 0.02612213274802674\n",
      "0.007237840909510851, [2,    56] losssssss: 0.025784913250910386\n",
      "0.007217478007078171, [2,    57] losssssss: 0.025459168772948414\n",
      "0.0069549065083265305, [2,    58] losssssss: 0.02514012976838597\n",
      "0.006990164052695036, [2,    59] losssssss: 0.024832503230831887\n",
      "0.0067370058968663216, [2,    60] losssssss: 0.024530911608599125\n",
      "0.0069165839813649654, [2,    61] losssssss: 0.024242152139300206\n",
      "0.006922668777406216, [2,    62] losssssss: 0.023962805633463206\n",
      "0.007048955652862787, [2,    63] losssssss: 0.023694331824247326\n",
      "0.006777327042073011, [2,    64] losssssss: 0.023430003624525853\n",
      "0.006860077381134033, [2,    65] losssssss: 0.023175081682319826\n",
      "0.0066529372707009315, [2,    66] losssssss: 0.02292474616093166\n",
      "0.006860227324068546, [2,    67] losssssss: 0.02268497722306803\n",
      "0.0067358012311160564, [2,    68] losssssss: 0.02245043051730403\n",
      "0.006703753490000963, [2,    69] losssssss: 0.02222221780676341\n",
      "0.006677329074591398, [2,    70] losssssss: 0.022000147967732378\n",
      "0.00663728965446353, [2,    71] losssssss: 0.02178376968163\n",
      "0.006674038711935282, [2,    72] losssssss: 0.021573912307050906\n",
      "0.0066056870855391026, [2,    73] losssssss: 0.021368868125934307\n",
      "0.006600461434572935, [2,    74] losssssss: 0.021169295062537532\n",
      "0.006632958073168993, [2,    75] losssssss: 0.02097547723601262\n",
      "0.006558706983923912, [2,    76] losssssss: 0.0207857828905904\n",
      "0.006636087317019701, [2,    77] losssssss: 0.020602020610414155\n",
      "0.006634596269577742, [2,    78] losssssss: 0.02042295106758292\n",
      "0.006526629906147718, [2,    79] losssssss: 0.02024704826807108\n",
      "0.006360715255141258, [2,    80] losssssss: 0.02007346910540946\n",
      "0.006820661015808582, [2,    81] losssssss: 0.01990985419072303\n",
      "0.006525655742734671, [2,    82] losssssss: 0.019746632258430485\n",
      "0.00647874316200614, [2,    83] losssssss: 0.019586778172931398\n",
      "0.006658352445811033, [2,    84] losssssss: 0.019432868342846632\n",
      "0.006749563384801149, [2,    85] losssssss: 0.01928365299039904\n",
      "0.006311609875410795, [2,    86] losssssss: 0.01913281527975964\n",
      "0.006521018221974373, [2,    87] losssssss: 0.018987852095187396\n",
      "0.006392139941453934, [2,    88] losssssss: 0.018844719002531332\n",
      "0.006343515124171972, [2,    89] losssssss: 0.01870425603760595\n",
      "0.00658750906586647, [2,    90] losssssss: 0.01856962551569773\n",
      "0.006612584926187992, [2,    91] losssssss: 0.018438229465263557\n",
      "0.006244944408535957, [2,    92] losssssss: 0.018305693758125213\n",
      "0.006607125513255596, [2,    93] losssssss: 0.018179902701728767\n",
      "0.006285551004111767, [2,    94] losssssss: 0.018053367045371138\n",
      "0.006424576509743929, [2,    95] losssssss: 0.017930958723943485\n",
      "0.006517790723592043, [2,    96] losssssss: 0.017812071557273157\n",
      "0.006392364855855703, [2,    97] losssssss: 0.017694342622206996\n",
      "0.006226904224604368, [2,    98] losssssss: 0.017577327944680442\n"
     ]
    }
   ],
   "source": [
    "final_loss,loss_history=model.fit(train_dl, optimizer, epochs=2, loss='mse')"
   ]
  },
  {
   "cell_type": "code",
   "execution_count": 14,
   "metadata": {},
   "outputs": [
    {
     "data": {
      "image/png": "[encoded data removed]",
      "text/plain": [
       "<Figure size 576x432 with 1 Axes>"
      ]
     },
     "metadata": {
      "needs_background": "light"
     },
     "output_type": "display_data"
    }
   ],
   "source": [
    "plot_loss(loss_history)"
   ]
  },
  {
   "cell_type": "markdown",
   "metadata": {
    "id": "ZKoQOYELfL04"
   },
   "source": [
    "# Save Model"
   ]
  },
  {
   "cell_type": "code",
   "execution_count": 15,
   "metadata": {
    "id": "ln6If5_PfNC4"
   },
   "outputs": [],
   "source": [
    "model.save_model(os.path.join(model_folder, \"loop_model\"))"
   ]
  },
  {
   "cell_type": "code",
   "execution_count": null,
   "metadata": {},
   "outputs": [],
   "source": []
  }
 ],
 "metadata": {
  "colab": {
   "gpuType": "T4",
   "provenance": []
  },
  "kernelspec": {
   "display_name": "Python 3",
   "language": "python",
   "name": "python3"
  },
  "language_info": {
   "codemirror_mode": {
    "name": "ipython",
    "version": 3
   },
   "file_extension": ".py",
   "mimetype": "text/x-python",
   "name": "python",
   "nbconvert_exporter": "python",
   "pygments_lexer": "ipython3",
   "version": "3.11.0"
  }
 },
 "nbformat": 4,
 "nbformat_minor": 4
}
